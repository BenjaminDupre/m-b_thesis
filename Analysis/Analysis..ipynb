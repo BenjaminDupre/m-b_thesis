{
 "cells": [
  {
   "cell_type": "code",
   "execution_count": 78,
   "metadata": {},
   "outputs": [],
   "source": [
    "import numpy as np\n",
    "import pandas as pd\n",
    "import matplotlib.pyplot as plt"
   ]
  },
  {
   "cell_type": "markdown",
   "metadata": {},
   "source": [
    "## Loading Dataset"
   ]
  },
  {
   "cell_type": "code",
   "execution_count": 79,
   "metadata": {},
   "outputs": [],
   "source": [
    "dataframe = pd.read_csv('database.csv', na_values=[''])"
   ]
  },
  {
   "cell_type": "markdown",
   "metadata": {},
   "source": [
    "## Ordering Columns"
   ]
  },
  {
   "cell_type": "code",
   "execution_count": 80,
   "metadata": {},
   "outputs": [
    {
     "data": {
      "text/plain": [
       "['Unnamed: 0',\n",
       " 'row_close',\n",
       " 'levelCounter',\n",
       " 'trial_set',\n",
       " 'row_start',\n",
       " 'time_secs',\n",
       " 'ptcp',\n",
       " 'feedbackType',\n",
       " 'correctCounter',\n",
       " 'Change Flag']"
      ]
     },
     "execution_count": 80,
     "metadata": {},
     "output_type": "execute_result"
    }
   ],
   "source": [
    "dataframe.columns.tolist()"
   ]
  },
  {
   "cell_type": "code",
   "execution_count": 81,
   "metadata": {},
   "outputs": [],
   "source": [
    "new_order = ['ptcp',\n",
    "             'trial_set',\n",
    "             'levelCounter',\n",
    "             'row_start',\n",
    "             'row_close',\n",
    "             'time_secs',\n",
    "             'feedbackType',\n",
    "             'correctCounter',\n",
    "             'Change Flag']"
   ]
  },
  {
   "cell_type": "code",
   "execution_count": 82,
   "metadata": {},
   "outputs": [],
   "source": [
    "work_df = dataframe[new_order]"
   ]
  },
  {
   "cell_type": "markdown",
   "metadata": {},
   "source": [
    "## Data Validation"
   ]
  },
  {
   "cell_type": "markdown",
   "metadata": {},
   "source": [
    "First we need to watch if after the tranformations of the raw-data all conditions look as expected"
   ]
  },
  {
   "cell_type": "markdown",
   "metadata": {},
   "source": [
    "I am going to start by looking at a participant, set level. We expect 22 participants and 36 trials per set. "
   ]
  },
  {
   "cell_type": "code",
   "execution_count": 83,
   "metadata": {},
   "outputs": [
    {
     "name": "stdout",
     "output_type": "stream",
     "text": [
      "\n",
      "Number of levels per set per participant:\n",
      "ptcp    trial_set\n",
      "tsvr06  1            36\n",
      "        2            36\n",
      "        3            36\n",
      "tsvr07  1            36\n",
      "        2            36\n",
      "                     ..\n",
      "tsvr26  2            36\n",
      "        3            35\n",
      "tsvr27  1            36\n",
      "        2            36\n",
      "        3            35\n",
      "Name: levelCounter, Length: 66, dtype: int64\n"
     ]
    }
   ],
   "source": [
    "# Group the DataFrame by 'ptcp' and 'trial_set', then count unique values in 'levelCounter'\n",
    "levels_per_set_per_participant = work_df.groupby(['ptcp', 'trial_set'])['levelCounter'].nunique()\n",
    "\n",
    "# Display the result\n",
    "print(\"\\nNumber of levels per set per participant:\")\n",
    "print(levels_per_set_per_participant)"
   ]
  },
  {
   "cell_type": "markdown",
   "metadata": {},
   "source": [
    "Due to a failure in the excecution of the program the last level (35) is missing for most participants that the game presented. We need to remove it for all participants. "
   ]
  },
  {
   "cell_type": "code",
   "execution_count": 84,
   "metadata": {},
   "outputs": [],
   "source": [
    "# Group the DataFrame by 'ptcp' and 'trial_set', then count unique values in 'levelCounter'\n",
    "feedbacktype_per_set_per_participant = work_df.groupby(['ptcp', 'trial_set'])['feedbackType'].count()\n",
    "\n",
    "# Convert the result to a DataFrame\n",
    "feedbacktype_per_set_per_participant_df = feedbacktype_per_set_per_participant.reset_index()\n",
    "\n",
    "# Display result\n",
    "print(feedbacktype_per_set_per_participant_d)\n",
    "\n",
    "# Adding flag for missing values \n",
    "feedbacktype_per_set_per_participant_df['missing_flag'] = np.where(36 - feedbacktype_per_set_per_participant_check_per_level['feedbackType'] > 0, 1, 0)\n",
    "\n",
    "# removing \n",
    "work_check_per_level2 =  work_df[work_df['levelCounter']<35]"
   ]
  },
  {
   "cell_type": "code",
   "execution_count": 85,
   "metadata": {},
   "outputs": [
    {
     "name": "stdout",
     "output_type": "stream",
     "text": [
      "              ptcp  trial_set  levelCounter  row_start  row_close  time_secs  \\\n",
      "feedbackType                                                                   \n",
      "congruent      784        784           784        778        784        778   \n",
      "incongruent    784        784           784        777        784        777   \n",
      "none           790        790           790        786        790        786   \n",
      "\n",
      "              correctCounter  Change Flag  \n",
      "feedbackType                               \n",
      "congruent                727          727  \n",
      "incongruent              731          731  \n",
      "none                     735          735  \n"
     ]
    }
   ],
   "source": [
    "# Group the DataFrame by 'ptcp' and 'trial_set', then count unique values in 'levelCounter'\n",
    "levels_per_participant = work_df.groupby(['feedbackType']).count()\n",
    "print(levels_per_participant)"
   ]
  },
  {
   "cell_type": "code",
   "execution_count": 103,
   "metadata": {},
   "outputs": [
    {
     "name": "stdout",
     "output_type": "stream",
     "text": [
      "     levelCounter feedbackType  ptcp  trial_set  row_start  row_close  \\\n",
      "0             0.0    congruent    21         21         21         21   \n",
      "1             0.0  incongruent    22         22         22         22   \n",
      "2             0.0         none    23         23         23         23   \n",
      "3             1.0    congruent    23         23         23         23   \n",
      "4             1.0  incongruent    23         23         23         23   \n",
      "..            ...          ...   ...        ...        ...        ...   \n",
      "100          33.0  incongruent    21         21         21         21   \n",
      "101          33.0         none    25         25         25         25   \n",
      "102          34.0    congruent    26         26         26         26   \n",
      "103          34.0  incongruent    19         19         19         19   \n",
      "104          34.0         none    21         21         21         21   \n",
      "\n",
      "     time_secs  correctCounter  Change Flag  deviation  \n",
      "0           21              21           21          1  \n",
      "1           22              16           16          0  \n",
      "2           23              22           22         -1  \n",
      "3           23              20           20         -1  \n",
      "4           23              22           22         -1  \n",
      "..         ...             ...          ...        ...  \n",
      "100         21              18           18          1  \n",
      "101         25              23           23         -3  \n",
      "102         26              22           22         -4  \n",
      "103         19              16           16          3  \n",
      "104         21              21           21          1  \n",
      "\n",
      "[105 rows x 10 columns]\n"
     ]
    }
   ],
   "source": [
    "# Group the DataFrame by 'ptcp' and 'trial_set', then count unique values in 'levelCounter'\n",
    "check_per_level = work_df2.groupby(['levelCounter','feedbackType']).count()\n",
    "check_per_level = check_per_level.reset_index()\n",
    "check_per_level['deviation']= 22-check_per_level['ptcp']\n",
    "print(check_per_level)\n",
    "\n"
   ]
  },
  {
   "cell_type": "markdown",
   "metadata": {},
   "source": [
    "Not all the levels have the same amount of stimuli there is a deviation. We will t-test next if this deviation is different from "
   ]
  },
  {
   "cell_type": "code",
   "execution_count": 98,
   "metadata": {},
   "outputs": [
    {
     "data": {
      "image/png": "[encoded data removed]",
      "text/plain": [
       "<Figure size 640x480 with 1 Axes>"
      ]
     },
     "metadata": {},
     "output_type": "display_data"
    }
   ],
   "source": [
    "import matplotlib.pyplot as plt\n",
    "import numpy as np\n",
    "from scipy import stats\n",
    "\n",
    "# Assuming your DataFrame is named check_per_level\n",
    "deviation_values = check_per_level['deviation']\n",
    "\n",
    "# Create the histogram\n",
    "plt.hist(deviation_values, bins=20, color='blue', alpha=0.7)\n",
    "plt.xlabel('Deviation')\n",
    "plt.ylabel('Frequency')\n",
    "plt.title('Distribution of Deviation Values')\n",
    "\n",
    "# Calculate the mean and standard error of the mean (SEM)\n",
    "mean_deviation = np.mean(deviation_values)\n",
    "sem_deviation = np.std(deviation_values) / np.sqrt(len(deviation_values))\n",
    "\n",
    "# Calculate the 95% confidence interval\n",
    "ci_lower = mean_deviation - 1.96 * sem_deviation\n",
    "ci_upper = mean_deviation + 1.96 * sem_deviation\n",
    "\n",
    "# Perform a t-test (assuming a population mean of 0)\n",
    "t_stat, p_value = stats.ttest_1samp(deviation_values, 0)\n",
    "\n",
    "# Add the confidence interval and t-test result to the plot\n",
    "plt.axvline(mean_deviation, color='red', linestyle='dashed', linewidth=2, label='Mean Deviation')\n",
    "plt.axvline(ci_lower, color='green', linestyle='dotted', linewidth=2, label='95% CI Lower')\n",
    "plt.axvline(ci_upper, color='green', linestyle='dotted', linewidth=2, label='95% CI Upper')\n",
    "\n",
    "# Add t-test result to the plot\n",
    "plt.annotate(f'T-Test\\nT-statistic: {t_stat:.2f}\\nP-value: {p_value:.4f}', xy=(0.6, 0.8), xycoords='axes fraction', fontsize=12, color='blue')\n",
    "\n",
    "plt.legend(loc='upper left')\n",
    "plt.show()\n"
   ]
  },
  {
   "cell_type": "code",
   "execution_count": 102,
   "metadata": {},
   "outputs": [
    {
     "data": {
      "text/plain": [
       "0      1\n",
       "1      0\n",
       "2     -1\n",
       "3     -1\n",
       "4     -1\n",
       "      ..\n",
       "100    1\n",
       "101   -3\n",
       "102   -4\n",
       "103    3\n",
       "104    1\n",
       "Name: deviation, Length: 105, dtype: int64"
      ]
     },
     "execution_count": 102,
     "metadata": {},
     "output_type": "execute_result"
    }
   ],
   "source": [
    "check_per_level['deviation']"
   ]
  }
 ],
 "metadata": {
  "kernelspec": {
   "display_name": "Python 3",
   "language": "python",
   "name": "python3"
  },
  "language_info": {
   "codemirror_mode": {
    "name": "ipython",
    "version": 3
   },
   "file_extension": ".py",
   "mimetype": "text/x-python",
   "name": "python",
   "nbconvert_exporter": "python",
   "pygments_lexer": "ipython3",
   "version": "3.10.12"
  },
  "orig_nbformat": 4
 },
 "nbformat": 4,
 "nbformat_minor": 2
}
