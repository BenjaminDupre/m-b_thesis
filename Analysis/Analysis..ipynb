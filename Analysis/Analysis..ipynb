{
 "cells": [
  {
   "cell_type": "code",
   "execution_count": 1,
   "metadata": {},
   "outputs": [],
   "source": [
    "import numpy as np\n",
    "import pandas as pd"
   ]
  },
  {
   "cell_type": "markdown",
   "metadata": {},
   "source": [
    "## Loading Dataset"
   ]
  },
  {
   "cell_type": "code",
   "execution_count": 2,
   "metadata": {},
   "outputs": [],
   "source": [
    "dataframe = pd.read_csv('database.csv', na_values=[''])"
   ]
  },
  {
   "cell_type": "markdown",
   "metadata": {},
   "source": [
    "## Ordering Columns"
   ]
  },
  {
   "cell_type": "code",
   "execution_count": 3,
   "metadata": {},
   "outputs": [
    {
     "data": {
      "text/plain": [
       "['Unnamed: 0',\n",
       " 'row_close',\n",
       " 'levelCounter',\n",
       " 'trial_set',\n",
       " 'row_start',\n",
       " 'time_secs',\n",
       " 'ptcp',\n",
       " 'feedbackType',\n",
       " 'correctCounter',\n",
       " 'Change Flag']"
      ]
     },
     "execution_count": 3,
     "metadata": {},
     "output_type": "execute_result"
    }
   ],
   "source": [
    "dataframe.columns.tolist()"
   ]
  },
  {
   "cell_type": "code",
   "execution_count": 4,
   "metadata": {},
   "outputs": [],
   "source": [
    "new_order = ['ptcp',\n",
    "             'trial_set',\n",
    "             'levelCounter',\n",
    "             'row_start',\n",
    "             'row_close',\n",
    "             'time_secs',\n",
    "             'feedbackType',\n",
    "             'correctCounter',\n",
    "             'Change Flag']"
   ]
  },
  {
   "cell_type": "code",
   "execution_count": 5,
   "metadata": {},
   "outputs": [],
   "source": [
    "work_df = dataframe[new_order]"
   ]
  },
  {
   "cell_type": "markdown",
   "metadata": {},
   "source": [
    "## Data Cleaning and Imputation"
   ]
  },
  {
   "cell_type": "markdown",
   "metadata": {},
   "source": [
    "First we need to watch if after leading all data all conditions remain the same."
   ]
  },
  {
   "cell_type": "code",
   "execution_count": 6,
   "metadata": {},
   "outputs": [
    {
     "name": "stdout",
     "output_type": "stream",
     "text": [
      "              ptcp  trial_set  levelCounter  row_start  row_close  time_secs  \\\n",
      "feedbackType                                                                   \n",
      "congruent      784        784           784        778        784        778   \n",
      "incongruent    784        784           784        777        784        777   \n",
      "none           790        790           790        786        790        786   \n",
      "\n",
      "              correctCounter  Change Flag  \n",
      "feedbackType                               \n",
      "congruent                727          727  \n",
      "incongruent              731          731  \n",
      "none                     735          735  \n"
     ]
    }
   ],
   "source": [
    "table_feedback = work_df.groupby('feedbackType').count()\n",
    "print(table_feedback)"
   ]
  },
  {
   "cell_type": "code",
   "execution_count": 7,
   "metadata": {},
   "outputs": [
    {
     "name": "stdout",
     "output_type": "stream",
     "text": [
      "['tsvr27' 'tsvr26' 'tsvr25' 'tsvr24' 'tsvr23' 'tsvr22' 'tsvr21' 'tsvr20'\n",
      " 'tsvr19' 'tsvr18' 'tsvr17' 'tsvr16' 'tsvr15' 'tsvr14' 'tsvr13' 'tsvr12'\n",
      " 'tsvr11' 'tsvr06' 'tsvr10' 'tsvr09' 'tsvr08' 'tsvr07']\n",
      "              ptcp  trial_set  levelCounter  row_start  row_close  time_secs  \\\n",
      "feedbackType                                                                   \n",
      "congruent      784        784           784        778        784        778   \n",
      "incongruent    784        784           784        777        784        777   \n",
      "none           790        790           790        786        790        786   \n",
      "\n",
      "              correctCounter  Change Flag  \n",
      "feedbackType                               \n",
      "congruent                727          727  \n",
      "incongruent              731          731  \n",
      "none                     735          735  \n"
     ]
    }
   ],
   "source": [
    "print(work_df['ptcp'].unique())\n",
    "rougth_clean_df = work_df.dropna(how='any')\n",
    "rougth_clean_df.groupby('feedbackType').count()\n",
    "print(table_feedback)"
   ]
  }
 ],
 "metadata": {
  "kernelspec": {
   "display_name": "Python 3",
   "language": "python",
   "name": "python3"
  },
  "language_info": {
   "codemirror_mode": {
    "name": "ipython",
    "version": 3
   },
   "file_extension": ".py",
   "mimetype": "text/x-python",
   "name": "python",
   "nbconvert_exporter": "python",
   "pygments_lexer": "ipython3",
   "version": "3.10.12"
  },
  "orig_nbformat": 4
 },
 "nbformat": 4,
 "nbformat_minor": 2
}
